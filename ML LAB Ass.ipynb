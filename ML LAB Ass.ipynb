{
 "cells": [
  {
   "cell_type": "code",
   "execution_count": 3,
   "id": "7903fd96-ab70-4f70-a418-e7a92fe2258a",
   "metadata": {},
   "outputs": [],
   "source": [
    "import numpy as np\n",
    "import pandas as pd\n",
    "import matplotlib.pyplot as plt"
   ]
  },
  {
   "cell_type": "code",
   "execution_count": 11,
   "id": "78d1aba7-aac8-4205-9b2f-088f9bf419e5",
   "metadata": {},
   "outputs": [],
   "source": [
    "df= pd.read_csv(\"C:/Users/USER/OneDrive/Desktop/ABCD/Salary_dataset.csv\")"
   ]
  },
  {
   "cell_type": "code",
   "execution_count": 13,
   "id": "b21ca010-b635-4bd8-9919-85c7ddb7d408",
   "metadata": {},
   "outputs": [
    {
     "data": {
      "text/html": [
       "<div>\n",
       "<style scoped>\n",
       "    .dataframe tbody tr th:only-of-type {\n",
       "        vertical-align: middle;\n",
       "    }\n",
       "\n",
       "    .dataframe tbody tr th {\n",
       "        vertical-align: top;\n",
       "    }\n",
       "\n",
       "    .dataframe thead th {\n",
       "        text-align: right;\n",
       "    }\n",
       "</style>\n",
       "<table border=\"1\" class=\"dataframe\">\n",
       "  <thead>\n",
       "    <tr style=\"text-align: right;\">\n",
       "      <th></th>\n",
       "      <th>Unnamed: 0</th>\n",
       "      <th>YearsExperience</th>\n",
       "      <th>Salary</th>\n",
       "    </tr>\n",
       "  </thead>\n",
       "  <tbody>\n",
       "    <tr>\n",
       "      <th>count</th>\n",
       "      <td>30.000000</td>\n",
       "      <td>30.000000</td>\n",
       "      <td>30.000000</td>\n",
       "    </tr>\n",
       "    <tr>\n",
       "      <th>mean</th>\n",
       "      <td>14.500000</td>\n",
       "      <td>5.413333</td>\n",
       "      <td>76004.000000</td>\n",
       "    </tr>\n",
       "    <tr>\n",
       "      <th>std</th>\n",
       "      <td>8.803408</td>\n",
       "      <td>2.837888</td>\n",
       "      <td>27414.429785</td>\n",
       "    </tr>\n",
       "    <tr>\n",
       "      <th>min</th>\n",
       "      <td>0.000000</td>\n",
       "      <td>1.200000</td>\n",
       "      <td>37732.000000</td>\n",
       "    </tr>\n",
       "    <tr>\n",
       "      <th>25%</th>\n",
       "      <td>7.250000</td>\n",
       "      <td>3.300000</td>\n",
       "      <td>56721.750000</td>\n",
       "    </tr>\n",
       "    <tr>\n",
       "      <th>50%</th>\n",
       "      <td>14.500000</td>\n",
       "      <td>4.800000</td>\n",
       "      <td>65238.000000</td>\n",
       "    </tr>\n",
       "    <tr>\n",
       "      <th>75%</th>\n",
       "      <td>21.750000</td>\n",
       "      <td>7.800000</td>\n",
       "      <td>100545.750000</td>\n",
       "    </tr>\n",
       "    <tr>\n",
       "      <th>max</th>\n",
       "      <td>29.000000</td>\n",
       "      <td>10.600000</td>\n",
       "      <td>122392.000000</td>\n",
       "    </tr>\n",
       "  </tbody>\n",
       "</table>\n",
       "</div>"
      ],
      "text/plain": [
       "       Unnamed: 0  YearsExperience         Salary\n",
       "count   30.000000        30.000000      30.000000\n",
       "mean    14.500000         5.413333   76004.000000\n",
       "std      8.803408         2.837888   27414.429785\n",
       "min      0.000000         1.200000   37732.000000\n",
       "25%      7.250000         3.300000   56721.750000\n",
       "50%     14.500000         4.800000   65238.000000\n",
       "75%     21.750000         7.800000  100545.750000\n",
       "max     29.000000        10.600000  122392.000000"
      ]
     },
     "execution_count": 13,
     "metadata": {},
     "output_type": "execute_result"
    }
   ],
   "source": [
    "df.describe()"
   ]
  },
  {
   "cell_type": "code",
   "execution_count": 15,
   "id": "72e2fa29-32db-4d8f-a871-6ca7aa05849d",
   "metadata": {},
   "outputs": [
    {
     "data": {
      "text/plain": [
       "-0.5"
      ]
     },
     "execution_count": 15,
     "metadata": {},
     "output_type": "execute_result"
    }
   ],
   "source": [
    "0.25-1.5*0.5"
   ]
  },
  {
   "cell_type": "code",
   "execution_count": 17,
   "id": "4704b912-4db3-4083-a432-57b50e61bc00",
   "metadata": {},
   "outputs": [
    {
     "data": {
      "text/plain": [
       "1.5"
      ]
     },
     "execution_count": 17,
     "metadata": {},
     "output_type": "execute_result"
    }
   ],
   "source": [
    "0.75 + 1.5*0.5"
   ]
  },
  {
   "cell_type": "code",
   "execution_count": 23,
   "id": "0a5ae70b-5614-4728-80f0-06cea83eda3a",
   "metadata": {},
   "outputs": [],
   "source": [
    "numerica_cols = df.select_dtypes(include=[np.number])"
   ]
  },
  {
   "cell_type": "code",
   "execution_count": 35,
   "id": "1b8591fd-7781-4420-a2e1-7f5e5e282eac",
   "metadata": {},
   "outputs": [
    {
     "name": "stdout",
     "output_type": "stream",
     "text": [
      "IQR:\n",
      " Unnamed: 0            14.5\n",
      "YearsExperience        4.5\n",
      "Salary             43824.0\n",
      "dtype: float64\n"
     ]
    }
   ],
   "source": [
    "import pandas as pd\n",
    "numeric_cols = df.select_dtypes(include='number')  \n",
    "\n",
    "Q1 = numeric_cols.quantile(0.25)\n",
    "Q3 = numeric_cols.quantile(0.75)\n",
    "IQR = Q3 - Q1\n",
    "\n",
    "print(\"IQR:\\n\", IQR)\n"
   ]
  },
  {
   "cell_type": "code",
   "execution_count": 39,
   "id": "e9778812-b636-4e59-8d2d-c6134066fe38",
   "metadata": {},
   "outputs": [],
   "source": [
    "df_cleaned = df[~((numeric_cols < (Q1 - 1.5 * IQR)) | (numeric_cols > (Q3 + 1.5 * IQR)))]\n"
   ]
  },
  {
   "cell_type": "code",
   "execution_count": 41,
   "id": "ed6a7ef5-cd24-486b-b050-8b238f934e56",
   "metadata": {},
   "outputs": [
    {
     "data": {
      "text/plain": [
       "<Figure size 2000x500 with 0 Axes>"
      ]
     },
     "execution_count": 41,
     "metadata": {},
     "output_type": "execute_result"
    },
    {
     "data": {
      "text/plain": [
       "<Figure size 2000x500 with 0 Axes>"
      ]
     },
     "metadata": {},
     "output_type": "display_data"
    }
   ],
   "source": [
    "plt.figure(figsize=(20, 5))\n"
   ]
  },
  {
   "cell_type": "code",
   "execution_count": 43,
   "id": "bb9ebb08-d4ed-47e9-ab70-11954291e1b7",
   "metadata": {},
   "outputs": [
    {
     "data": {
      "text/plain": [
       "Text(0.5, 1.0, 'Before Outlier Removal')"
      ]
     },
     "execution_count": 43,
     "metadata": {},
     "output_type": "execute_result"
    },
    {
     "data": {
      "image/png": "[encoded data removed]",
      "text/plain": [
       "<Figure size 640x480 with 1 Axes>"
      ]
     },
     "metadata": {},
     "output_type": "display_data"
    }
   ],
   "source": [
    "plt.subplot(1, 2, 1)\n",
    "numeric_cols.boxplot()\n",
    "plt.title('Before Outlier Removal')\n",
    "\n"
   ]
  },
  {
   "cell_type": "code",
   "execution_count": 55,
   "id": "63fdd52f-92c2-48bd-a8c7-3377e6a29bd8",
   "metadata": {},
   "outputs": [
    {
     "data": {
      "text/plain": [
       "<Figure size 640x480 with 0 Axes>"
      ]
     },
     "metadata": {},
     "output_type": "display_data"
    }
   ],
   "source": [
    "plt.tight_layout()\n",
    "plt.show()"
   ]
  },
  {
   "cell_type": "code",
   "execution_count": 59,
   "id": "082a72ef-4c7a-4587-bed7-f1a9732f26f4",
   "metadata": {},
   "outputs": [
    {
     "data": {
      "text/plain": [
       "<Figure size 640x480 with 0 Axes>"
      ]
     },
     "execution_count": 59,
     "metadata": {},
     "output_type": "execute_result"
    },
    {
     "data": {
      "text/plain": [
       "<Figure size 640x480 with 0 Axes>"
      ]
     },
     "metadata": {},
     "output_type": "display_data"
    }
   ],
   "source": [
    "plt.figure(figure=(20 ,6))"
   ]
  },
  {
   "cell_type": "code",
   "execution_count": 63,
   "id": "72a76d5a-2cc4-4e9a-839c-f92cc14f8ddd",
   "metadata": {},
   "outputs": [
    {
     "data": {
      "image/png": "[encoded data removed]",
      "text/plain": [
       "<Figure size 640x480 with 1 Axes>"
      ]
     },
     "metadata": {},
     "output_type": "display_data"
    }
   ],
   "source": [
    "plt.subplot(1, 2, 2)\n",
    "df_cleaned.select_dtypes(include = [np.number]).boxplot()\n",
    "plt.title('After Outlier Removal')\n",
    "\n",
    "plt.tight_layout()\n",
    "plt.show()"
   ]
  },
  {
   "cell_type": "code",
   "execution_count": 65,
   "id": "f6fa2b66-d7e2-4842-87fa-69c43e9105d4",
   "metadata": {},
   "outputs": [
    {
     "data": {
      "text/plain": [
       "(30, 3)"
      ]
     },
     "execution_count": 65,
     "metadata": {},
     "output_type": "execute_result"
    }
   ],
   "source": [
    "df_cleaned.shape"
   ]
  },
  {
   "cell_type": "code",
   "execution_count": 67,
   "id": "0434fc31-c8b6-4d21-b976-ecd885933cd7",
   "metadata": {},
   "outputs": [
    {
     "data": {
      "text/html": [
       "<div>\n",
       "<style scoped>\n",
       "    .dataframe tbody tr th:only-of-type {\n",
       "        vertical-align: middle;\n",
       "    }\n",
       "\n",
       "    .dataframe tbody tr th {\n",
       "        vertical-align: top;\n",
       "    }\n",
       "\n",
       "    .dataframe thead th {\n",
       "        text-align: right;\n",
       "    }\n",
       "</style>\n",
       "<table border=\"1\" class=\"dataframe\">\n",
       "  <thead>\n",
       "    <tr style=\"text-align: right;\">\n",
       "      <th></th>\n",
       "      <th>Unnamed: 0</th>\n",
       "      <th>YearsExperience</th>\n",
       "      <th>Salary</th>\n",
       "    </tr>\n",
       "  </thead>\n",
       "  <tbody>\n",
       "    <tr>\n",
       "      <th>0</th>\n",
       "      <td>0</td>\n",
       "      <td>1.2</td>\n",
       "      <td>39344.0</td>\n",
       "    </tr>\n",
       "    <tr>\n",
       "      <th>1</th>\n",
       "      <td>1</td>\n",
       "      <td>1.4</td>\n",
       "      <td>46206.0</td>\n",
       "    </tr>\n",
       "    <tr>\n",
       "      <th>2</th>\n",
       "      <td>2</td>\n",
       "      <td>1.6</td>\n",
       "      <td>37732.0</td>\n",
       "    </tr>\n",
       "    <tr>\n",
       "      <th>3</th>\n",
       "      <td>3</td>\n",
       "      <td>2.1</td>\n",
       "      <td>43526.0</td>\n",
       "    </tr>\n",
       "    <tr>\n",
       "      <th>4</th>\n",
       "      <td>4</td>\n",
       "      <td>2.3</td>\n",
       "      <td>39892.0</td>\n",
       "    </tr>\n",
       "  </tbody>\n",
       "</table>\n",
       "</div>"
      ],
      "text/plain": [
       "   Unnamed: 0  YearsExperience   Salary\n",
       "0           0              1.2  39344.0\n",
       "1           1              1.4  46206.0\n",
       "2           2              1.6  37732.0\n",
       "3           3              2.1  43526.0\n",
       "4           4              2.3  39892.0"
      ]
     },
     "execution_count": 67,
     "metadata": {},
     "output_type": "execute_result"
    }
   ],
   "source": [
    "df_cleaned .head()"
   ]
  },
  {
   "cell_type": "code",
   "execution_count": 73,
   "id": "2634af12-28b1-4807-b9ed-23f802b0a2ed",
   "metadata": {},
   "outputs": [],
   "source": [
    "import pandas as pd\n",
    "import numpy as np\n",
    "from sklearn.preprocessing import MinMaxScaler"
   ]
  },
  {
   "cell_type": "code",
   "execution_count": 77,
   "id": "67f7b576-23ee-41e2-9f91-f174ca97511c",
   "metadata": {},
   "outputs": [],
   "source": [
    "df=pd.read_csv(\"C:/Users/USER/OneDrive/Desktop/ABCD/Salary_dataset.csv\")"
   ]
  },
  {
   "cell_type": "code",
   "execution_count": 79,
   "id": "8bd52a3d-81a0-44ff-9b8f-45a8d540f268",
   "metadata": {},
   "outputs": [],
   "source": [
    "numeric_cols=df.select_dtypes(include=[np.number])\n",
    "non_numeric_cols=df.select_dtypes(exclude=[np.number])"
   ]
  },
  {
   "cell_type": "code",
   "execution_count": 108,
   "id": "8c40b3a4-5c09-4c9f-8cbe-31a7393969fe",
   "metadata": {},
   "outputs": [],
   "source": [
    "scaler= MinMaxScaler()\n",
    "scaled_numeric_df=scaler.fit_transform(numeric_cols)\n"
   ]
  },
  {
   "cell_type": "code",
   "execution_count": 122,
   "id": "3e15be48-d15a-48b0-abad-c23a7bdb9232",
   "metadata": {},
   "outputs": [],
   "source": [
    "scaled_numeric_dataframe = pd.DataFrame(scaled_numeric_df, columns=numeric_cols.columns)\n"
   ]
  },
  {
   "cell_type": "code",
   "execution_count": 161,
   "id": "3ba83b95-7054-44c3-9078-2dd764e8ec16",
   "metadata": {},
   "outputs": [
    {
     "name": "stdout",
     "output_type": "stream",
     "text": [
      "(30, 3)\n",
      "\n",
      "************************************************************\n",
      "   Unnamed: 0  YearsExperience    Salary\n",
      "0   -1.675247        -1.510053 -1.360113\n",
      "1   -1.559712        -1.438373 -1.105527\n",
      "2   -1.444178        -1.366693 -1.419919\n",
      "3   -1.328644        -1.187494 -1.204957\n",
      "4   -1.213110        -1.115814 -1.339781\n"
     ]
    }
   ],
   "source": [
    "# Step 4: Check the shape and preview\n",
    "print(scaled_df.shape)\n",
    "print()\n",
    "print('*' * 60)\n",
    "print(scaled_df.head())\n"
   ]
  },
  {
   "cell_type": "code",
   "execution_count": 151,
   "id": "afc90ba0-aef2-48f8-980a-c10156628751",
   "metadata": {},
   "outputs": [],
   "source": [
    "import pandas as pd\n",
    "import numpy as np\n",
    "from sklearn.preprocessing import StandardScaler"
   ]
  },
  {
   "cell_type": "code",
   "execution_count": 153,
   "id": "7a234d61-eab0-4eeb-a876-3c446221f7e6",
   "metadata": {},
   "outputs": [],
   "source": [
    "df=pd.read_csv(\"C:/Users/USER/OneDrive/Desktop/ABCD/Salary_dataset.csv\")"
   ]
  },
  {
   "cell_type": "code",
   "execution_count": 155,
   "id": "fdac5ada-64c4-4716-8298-6768b2fed189",
   "metadata": {},
   "outputs": [],
   "source": [
    "numeric_cols=df.select_dtypes(include=[np.number])\n",
    "non_numeric_cols=df.select_dtypes(exclude=[np.number])"
   ]
  },
  {
   "cell_type": "code",
   "execution_count": 163,
   "id": "4d4c7dcc-e24c-499b-b121-947c7e579fb3",
   "metadata": {},
   "outputs": [],
   "source": [
    "scaler= StandardScaler()\n",
    "scaled_numeric_df=scaler.fit_transform(numeric_cols)"
   ]
  },
  {
   "cell_type": "code",
   "execution_count": 165,
   "id": "9faba188-1b44-4d81-bb47-d73490625f91",
   "metadata": {},
   "outputs": [],
   "source": [
    "scaled_numeric_dataframe = pd.DataFrame(scaled_numeric_df, columns=numeric_cols.columns)"
   ]
  },
  {
   "cell_type": "code",
   "execution_count": 179,
   "id": "74a2279d-7e72-4ee9-9734-ffd00fce0d45",
   "metadata": {},
   "outputs": [],
   "source": [
    "\n",
    "# Step 4: Reset index of non-numeric data (important if index got shuffled)\n",
    "non_numeric_cols = non_numeric_cols.reset_index(drop=True)\n",
    "\n",
    "# Step 5: Concatenate scaled numeric and non-numeric columns\n",
    "scaled_data = pd.concat([scaled_numeric_df, non_numeric_cols], axis=1)\n",
    "\n",
    "\n"
   ]
  },
  {
   "cell_type": "code",
   "execution_count": 181,
   "id": "2b70b3a1-b99e-4b25-9908-e558ee6290f4",
   "metadata": {},
   "outputs": [
    {
     "name": "stdout",
     "output_type": "stream",
     "text": [
      "(30, 3)\n",
      "\n",
      "************************************************************\n",
      "   Unnamed: 0  YearsExperience    Salary\n",
      "0   -1.675247        -1.510053 -1.360113\n",
      "1   -1.559712        -1.438373 -1.105527\n",
      "2   -1.444178        -1.366693 -1.419919\n",
      "3   -1.328644        -1.187494 -1.204957\n",
      "4   -1.213110        -1.115814 -1.339781\n"
     ]
    }
   ],
   "source": [
    "# Step 4: Check the shape and preview\n",
    "print(scaled_df.shape)\n",
    "print()\n",
    "print('*' * 60)\n",
    "print(scaled_df.head())"
   ]
  },
  {
   "cell_type": "code",
   "execution_count": null,
   "id": "e45fea44-c0b4-448a-b204-a5b84f4b4896",
   "metadata": {},
   "outputs": [],
   "source": []
  }
 ],
 "metadata": {
  "kernelspec": {
   "display_name": "Python 3 (ipykernel)",
   "language": "python",
   "name": "python3"
  },
  "language_info": {
   "codemirror_mode": {
    "name": "ipython",
    "version": 3
   },
   "file_extension": ".py",
   "mimetype": "text/x-python",
   "name": "python",
   "nbconvert_exporter": "python",
   "pygments_lexer": "ipython3",
   "version": "3.12.4"
  }
 },
 "nbformat": 4,
 "nbformat_minor": 5
}
